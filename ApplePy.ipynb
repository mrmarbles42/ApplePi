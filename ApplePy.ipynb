{
 "cells": [
  {
   "cell_type": "markdown",
   "metadata": {},
   "source": [
    "# ApplePy instructions! #"
   ]
  },
  {
   "cell_type": "code",
   "execution_count": 2,
   "metadata": {},
   "outputs": [
    {
     "name": "stdout",
     "output_type": "stream",
     "text": [
      "Hello ApplePi user!\n"
     ]
    }
   ],
   "source": [
    "print('Hello ApplePi user!')"
   ]
  },
  {
   "cell_type": "markdown",
   "metadata": {},
   "source": [
    "This document will serve as an intro to the use of Python in the ApplePi ESN environment.\\\n",
    "In this tutorial I'll walk you through the steps you will need to take to cater the ApplyPi environment to your individual needs as a user, no matter whether you're an agriculturalist or academic.\\\n",
    "This is meant to be as simple as possible! (that's the intention, at least)"
   ]
  }
 ],
 "metadata": {
  "interpreter": {
   "hash": "9c7f768d91589ce71d97c6ea40c2c7a32abc13998622aa5426148dcae0561e5b"
  },
  "kernelspec": {
   "display_name": "Python 3.9.9 64-bit (windows store)",
   "language": "python",
   "name": "python3"
  },
  "language_info": {
   "codemirror_mode": {
    "name": "ipython",
    "version": 3
   },
   "file_extension": ".py",
   "mimetype": "text/x-python",
   "name": "python",
   "nbconvert_exporter": "python",
   "pygments_lexer": "ipython3",
   "version": "3.9.9"
  },
  "orig_nbformat": 4
 },
 "nbformat": 4,
 "nbformat_minor": 2
}
